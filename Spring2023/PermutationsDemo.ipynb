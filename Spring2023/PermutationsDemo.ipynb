{
 "cells": [
  {
   "cell_type": "markdown",
   "id": "d66d8700",
   "metadata": {},
   "source": [
    "This is a document including useful permutations operations for MTH301-rs, Knots and Permutations Group, under Dr. Patricia Cahn's supervision. \n",
    "Based on https://www.math.ucdavis.edu/~anne/SQ2014/thematic_tutorials/group_theory.html"
   ]
  },
  {
   "cell_type": "code",
   "execution_count": null,
   "id": "902e3b4a",
   "metadata": {},
   "outputs": [],
   "source": [
    "## Defining Group S_5\n",
    "G = SymmetricGroup(5)\n",
    "print(G)"
   ]
  },
  {
   "cell_type": "code",
   "execution_count": 9,
   "id": "eb27053c",
   "metadata": {},
   "outputs": [
    {
     "name": "stdout",
     "output_type": "stream",
     "text": [
      "Alternating group of order 5!/2 as a permutation group\n"
     ]
    },
    {
     "data": {
      "text/plain": [
       "False"
      ]
     },
     "execution_count": 9,
     "metadata": {},
     "output_type": "execute_result"
    }
   ],
   "source": [
    "## Definign alternating group\n",
    "G_alt = AlternatingGroup(5)\n",
    "print(G_alt)"
   ]
  },
  {
   "cell_type": "code",
   "execution_count": 8,
   "id": "0a79a841",
   "metadata": {},
   "outputs": [
    {
     "data": {
      "text/plain": [
       "False"
      ]
     },
     "execution_count": 8,
     "metadata": {},
     "output_type": "execute_result"
    }
   ],
   "source": [
    "## Is group G Abelian ?\n",
    "G.is_abelian()"
   ]
  },
  {
   "cell_type": "code",
   "execution_count": 10,
   "id": "484d694e",
   "metadata": {},
   "outputs": [
    {
     "data": {
      "text/plain": [
       "[(),\n",
       " (1,5,4,3,2),\n",
       " (1,2),\n",
       " (1,4,2,5,3),\n",
       " (1,3,5,2,4),\n",
       " (2,5,4,3),\n",
       " (1,5,3)(2,4),\n",
       " (1,2,5,4,3),\n",
       " (1,4)(2,3,5),\n",
       " (1,3,4,5),\n",
       " (2,4)(3,5),\n",
       " (1,5,2,3,4),\n",
       " (1,2,4)(3,5),\n",
       " (1,4,5),\n",
       " (1,3,2),\n",
       " (2,3,4,5),\n",
       " (1,5),\n",
       " (1,2,3,4,5),\n",
       " (1,4,3,2),\n",
       " (1,3)(2,5,4),\n",
       " (3,4),\n",
       " (1,5,4,2),\n",
       " (1,2)(3,4),\n",
       " (1,4)(2,5,3),\n",
       " (1,3)(2,4,5),\n",
       " (2,5,4),\n",
       " (1,5,3,2,4),\n",
       " (1,2,5,4),\n",
       " (1,4,5,2,3),\n",
       " (1,3,5),\n",
       " (2,4,5,3),\n",
       " (1,5,2,3),\n",
       " (1,2,4,5,3),\n",
       " (1,4,3,5),\n",
       " (1,3,4,2),\n",
       " (2,3,5),\n",
       " (1,5)(3,4),\n",
       " (1,2,3,5),\n",
       " (1,4,2),\n",
       " (1,3,2,5,4),\n",
       " (3,5,4),\n",
       " (1,5,3,4,2),\n",
       " (1,2)(3,5,4),\n",
       " (1,4)(2,5),\n",
       " (1,3,2,4,5),\n",
       " (2,5,3,4),\n",
       " (1,5,2,4),\n",
       " (1,2,5,3,4),\n",
       " (1,4,5)(2,3),\n",
       " (1,3),\n",
       " (2,4,5),\n",
       " (1,5)(2,3),\n",
       " (1,2,4,5),\n",
       " (1,4,3),\n",
       " (1,3,5,4,2),\n",
       " (2,3),\n",
       " (1,5,4,3),\n",
       " (1,2,3),\n",
       " (1,4,2)(3,5),\n",
       " (1,3,4)(2,5),\n",
       " (4,5),\n",
       " (1,5,3,2),\n",
       " (1,2)(4,5),\n",
       " (1,4,3)(2,5),\n",
       " (1,3,5)(2,4),\n",
       " (2,5,3),\n",
       " (1,5,2,4,3),\n",
       " (1,2,5,3),\n",
       " (1,4,2,3,5),\n",
       " (1,3,4),\n",
       " (2,4,3,5),\n",
       " (1,5)(2,3,4),\n",
       " (1,2,4,3,5),\n",
       " (1,4),\n",
       " (1,3,2)(4,5),\n",
       " (2,3,4),\n",
       " (1,5,4),\n",
       " (1,2,3,4),\n",
       " (1,4,5,3,2),\n",
       " (1,3)(2,5),\n",
       " (3,4,5),\n",
       " (1,5,2),\n",
       " (1,2)(3,4,5),\n",
       " (1,4,3,2,5),\n",
       " (1,3)(2,4),\n",
       " (2,5),\n",
       " (1,5)(2,4,3),\n",
       " (1,2,5),\n",
       " (1,4,2,3),\n",
       " (1,3,5,4),\n",
       " (2,4,3),\n",
       " (1,5,4,2,3),\n",
       " (1,2,4,3),\n",
       " (1,4)(3,5),\n",
       " (1,3,4,5,2),\n",
       " (2,3,5,4),\n",
       " (1,5,3,4),\n",
       " (1,2,3,5,4),\n",
       " (1,4,5,2),\n",
       " (1,3,2,5),\n",
       " (3,5),\n",
       " (1,5,2)(3,4),\n",
       " (1,2)(3,5),\n",
       " (1,4,2,5),\n",
       " (1,3,2,4),\n",
       " (2,5)(3,4),\n",
       " (1,5)(2,4),\n",
       " (1,2,5)(3,4),\n",
       " (1,4)(2,3),\n",
       " (1,3)(4,5),\n",
       " (2,4),\n",
       " (1,5,4)(2,3),\n",
       " (1,2,4),\n",
       " (1,4,5,3),\n",
       " (1,3,5,2),\n",
       " (2,3)(4,5),\n",
       " (1,5,3),\n",
       " (1,2,3)(4,5),\n",
       " (1,4,3,5,2),\n",
       " (1,3,4,2,5)]"
      ]
     },
     "execution_count": 10,
     "metadata": {},
     "output_type": "execute_result"
    }
   ],
   "source": [
    "## Printing all elements of a group\n",
    "G.list()"
   ]
  },
  {
   "cell_type": "code",
   "execution_count": 11,
   "id": "36b17b81",
   "metadata": {},
   "outputs": [
    {
     "data": {
      "text/plain": [
       "[()]"
      ]
     },
     "execution_count": 11,
     "metadata": {},
     "output_type": "execute_result"
    }
   ],
   "source": [
    "## Getting elements of Z(G) (Center group)\n",
    "G.center().list()"
   ]
  },
  {
   "cell_type": "code",
   "execution_count": 20,
   "id": "97e8b706",
   "metadata": {},
   "outputs": [
    {
     "data": {
      "text/plain": [
       "[(), (1,4,5,3,2), (1,5,2,4,3), (1,3,4,2,5), (1,2,3,5,4)]"
      ]
     },
     "execution_count": 20,
     "metadata": {},
     "output_type": "execute_result"
    }
   ],
   "source": [
    "## Getting random element of G\n",
    "a = G.random_element()\n",
    "## Using it to create a cyclic subgroup of G with generator a\n",
    "H = G.subgroup([a])\n",
    "H.list()"
   ]
  },
  {
   "cell_type": "code",
   "execution_count": 15,
   "id": "354c95d3",
   "metadata": {},
   "outputs": [
    {
     "data": {
      "text/plain": [
       "False"
      ]
     },
     "execution_count": 15,
     "metadata": {},
     "output_type": "execute_result"
    }
   ],
   "source": [
    "## Checking if a group is normal\n",
    "H.is_normal(G)"
   ]
  },
  {
   "cell_type": "code",
   "execution_count": 25,
   "id": "9d10b2cc",
   "metadata": {},
   "outputs": [],
   "source": [
    "## The commutator of two elements, g and h, of a group G, is the element. [g, h] = ghg−1h−1/ as Permuatation (line notation) objects. \n",
    "## uses http://sporadic.stanford.edu/reference/combinat/sage/combinat/permutation.html\n",
    "def commutator_g_h(g, h):\n",
    "    g_inverse = g.inverse()\n",
    "    h_inverse = h.inverse()\n",
    "    a = g_inverse.left_action_product(h_inverse)\n",
    "    b = g.left_action_product(h)\n",
    "    \n",
    "    return b.left_action_product(a)"
   ]
  },
  {
   "cell_type": "code",
   "execution_count": 26,
   "id": "f017f207",
   "metadata": {},
   "outputs": [
    {
     "name": "stdout",
     "output_type": "stream",
     "text": [
      "[3, 2, 1]\n",
      "[2, 1, 3]\n",
      "(1,3,2)\n"
     ]
    }
   ],
   "source": [
    "## Testing Commutator function on two permutations from S_3\n",
    "S_3 = SymmetricGroup(3)\n",
    "g = Permutation(S_3.random_element())\n",
    "print(g)\n",
    "h = Permutation(S_3.random_element())\n",
    "print(h)\n",
    "print(commutator_g_h(g, h))\n",
    "print(commutator_g_h(g, h).cycle_string())"
   ]
  },
  {
   "cell_type": "code",
   "execution_count": 42,
   "id": "ed81d2d5",
   "metadata": {},
   "outputs": [],
   "source": [
    "## getting set of commutators from a list of permutations\n",
    "def commutateSet(permutations):\n",
    "    commutator_set = []\n",
    "    for g in permutations:\n",
    "        for h in permutations:\n",
    "            commutator = commutator_g_h(g,h)\n",
    "#             print(\"commutator\", commutator)\n",
    "            if commutator in commutator_set:\n",
    "                continue\n",
    "            else:\n",
    "                commutator_set.append(commutator)\n",
    "        \n",
    "    return commutator_set"
   ]
  },
  {
   "cell_type": "code",
   "execution_count": 43,
   "id": "2ddea35b",
   "metadata": {},
   "outputs": [
    {
     "name": "stdout",
     "output_type": "stream",
     "text": [
      "['()', '(1,3,2)', '(1,2,3)']\n"
     ]
    }
   ],
   "source": [
    "## Testing commutateSet with set of 5 random permutations\n",
    "S_3_permutations = []\n",
    "for i in range(5):\n",
    "    S_3_permutations.append(Permutation(S_3.random_element()))\n",
    "\n",
    "print(commutateSet(S_3_permutations))"
   ]
  },
  {
   "cell_type": "code",
   "execution_count": null,
   "id": "92fe3d1e",
   "metadata": {},
   "outputs": [],
   "source": []
  }
 ],
 "metadata": {
  "kernelspec": {
   "display_name": "SageMath 9.7",
   "language": "sage",
   "name": "sagemath-9.7"
  },
  "language_info": {
   "codemirror_mode": {
    "name": "ipython",
    "version": 3
   },
   "file_extension": ".py",
   "mimetype": "text/x-python",
   "name": "python",
   "nbconvert_exporter": "python",
   "pygments_lexer": "ipython3",
   "version": "3.10.5"
  }
 },
 "nbformat": 4,
 "nbformat_minor": 5
}
